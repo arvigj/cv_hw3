{
 "cells": [
  {
   "cell_type": "code",
   "execution_count": 2,
   "metadata": {
    "collapsed": true
   },
   "outputs": [],
   "source": [
    "import numpy as np\n",
    "import cv2\n",
    "import matplotlib.pyplot as plt\n",
    "import subprocess\n",
    "import itertools\n",
    "\n",
    "%matplotlib inline"
   ]
  },
  {
   "cell_type": "code",
   "execution_count": 3,
   "metadata": {},
   "outputs": [
    {
     "name": "stdout",
     "output_type": "stream",
     "text": [
      "['FDDB-fold-01-ellipseList.txt', 'FDDB-fold-02-ellipseList.txt', 'FDDB-fold-03-ellipseList.txt', 'FDDB-fold-04-ellipseList.txt', 'FDDB-fold-05-ellipseList.txt', 'FDDB-fold-06-ellipseList.txt', 'FDDB-fold-07-ellipseList.txt', 'FDDB-fold-08-ellipseList.txt', 'FDDB-fold-09-ellipseList.txt', 'FDDB-fold-10-ellipseList.txt']\n"
     ]
    }
   ],
   "source": [
    "f = subprocess.check_output([\"ls\"]).split()\n",
    "files = []\n",
    "#make list of files that contain ellipse data\n",
    "for i in f:\n",
    "    if \"ellipseList.txt\" in i:\n",
    "        files.append(i)\n",
    "print files"
   ]
  },
  {
   "cell_type": "code",
   "execution_count": 4,
   "metadata": {
    "collapsed": true
   },
   "outputs": [],
   "source": [
    "imginfo = {}\n",
    "decimated_imginfo = {}"
   ]
  },
  {
   "cell_type": "code",
   "execution_count": 5,
   "metadata": {
    "collapsed": true
   },
   "outputs": [],
   "source": [
    "#container for ellipse data\n",
    "class ellipse:\n",
    "    #change here\n",
    "    def __init__(self,s,decimated=False):\n",
    "        ellipse_info = s.split(\" \")\n",
    "        if (decimated):\n",
    "            self.major_axis = float(ellipse_info[0])\n",
    "            self.minor_axis = float(ellipse_info[1])\n",
    "            self.angle = float(ellipse_info[2])\n",
    "            self.cx = float(ellipse_info[3])\n",
    "            self.cy = float(ellipse_info[4])\n",
    "        else:\n",
    "            self.major_axis = float(ellipse_info[0])/(2*np.sqrt(2))\n",
    "            self.minor_axis = float(ellipse_info[1])/(2*np.sqrt(2))\n",
    "            self.angle = float(ellipse_info[2])\n",
    "            self.cx = float(ellipse_info[3])/2\n",
    "            self.cy = float(ellipse_info[4])/2\n",
    "        #change\n",
    "        focus = np.sqrt(np.square(self.major_axis)+np.square(self.minor_axis))\n",
    "        self.foci = np.array([(self.cx-np.cos(self.angle)*focus,self.cy-np.sin(self.angle)*focus),(self.cx+np.cos(self.angle)*focus,self.cy+np.sin(self.angle)*focus)])\n",
    "        self.foci_dist = np.sqrt(np.square(focus)+np.square(self.minor_axis))\n",
    "        self.area = np.pi*self.minor_axis*self.major_axis\n",
    "    def pixel_score(self, xy):\n",
    "        if (np.linalg.norm([xy[0]-self.foci[0][0],xy[1]-self.foci[0][1]]) <= self.foci_dist) and (np.linalg.norm([xy[0]-self.foci[1][0],xy[1]-self.foci[1][1]]) <= self.foci_dist):\n",
    "            return 1\n",
    "        return 0\n",
    "    def score(self, winx, winy, half_width = 16):\n",
    "        intersect = sum(map(self.pixel_score,itertools.product(xrange(winx-half_width,winx+half_width+1),xrange(winy-half_width,winy+half_width+1))))\n",
    "        union = np.square(half_width*2+1) + self.area - intersect\n",
    "        return int(intersect/union)"
   ]
  },
  {
   "cell_type": "code",
   "execution_count": 6,
   "metadata": {
    "collapsed": true
   },
   "outputs": [],
   "source": [
    "#read and populate array iminfo with the information about ellipses of images\n",
    "#images can have variable numbers of ellipses\n",
    "def info(filename):\n",
    "    with open(filename,\"r\") as f:\n",
    "        while(True):\n",
    "            try:\n",
    "                imgpath = f.readline().split(\"\\n\")[0]+\".jpg\"\n",
    "                imginfo[imgpath] = []\n",
    "                #change here\n",
    "                decimated_imginfo[imgpath] = []\n",
    "                #change\n",
    "                numfaces = f.readline().strip()\n",
    "                \n",
    "                #print numfaces\n",
    "                for i in xrange(int(numfaces)):\n",
    "                    \n",
    "                    #change here\n",
    "                    param=f.readline().split(\"\\n\")[0]\n",
    "                    imginfo[imgpath].append(ellipse(param))\n",
    "                    decimated_imginfo[imgpath].append(ellipse(param,decimated=True))\n",
    "                    #change\n",
    "                    \n",
    "            except ValueError as e:\n",
    "                #pass\n",
    "                return\n",
    "    return"
   ]
  },
  {
   "cell_type": "code",
   "execution_count": 7,
   "metadata": {},
   "outputs": [
    {
     "data": {
      "text/plain": [
       "[None, None, None, None, None, None, None, None, None, None]"
      ]
     },
     "execution_count": 7,
     "metadata": {},
     "output_type": "execute_result"
    }
   ],
   "source": [
    "#store ellipse data for all images\n",
    "map(info,files)\n"
   ]
  },
  {
   "cell_type": "code",
   "execution_count": 8,
   "metadata": {},
   "outputs": [
    {
     "data": {
      "text/plain": [
       "2846"
      ]
     },
     "execution_count": 8,
     "metadata": {},
     "output_type": "execute_result"
    }
   ],
   "source": [
    "len(imginfo)"
   ]
  },
  {
   "cell_type": "code",
   "execution_count": 9,
   "metadata": {},
   "outputs": [
    {
     "data": {
      "text/plain": [
       "2846"
      ]
     },
     "execution_count": 9,
     "metadata": {},
     "output_type": "execute_result"
    }
   ],
   "source": [
    "len(imginfo)"
   ]
  },
  {
   "cell_type": "code",
   "execution_count": 10,
   "metadata": {
    "collapsed": true
   },
   "outputs": [],
   "source": [
    "#change here\n",
    "import scipy.ndimage\n",
    "def create_windows(imfile,e,decimated=False):\n",
    "    #for ellip in ellipses:\n",
    "    image = cv2.imread(imfile,0)\n",
    "    if (decimated):\n",
    "        image = scipy.ndimage.filters.gaussian_filter(image, sigma=3)\n",
    "        image = image[::2,::2]\n",
    "    #change\n",
    "    \n",
    "    positions = [-6,-4,-2,0,2,4,6] #centering of windows\n",
    "    window_center = list(itertools.product(positions,positions))\n",
    "    \n",
    "    #get subsection of image centered at data[1]. data[0] is the ellipse instance for the image\n",
    "    window_gen = lambda data: image[int(data[0].cy+data[1][0]) - 16:int(data[0].cy+data[1][0]) + 17,int(data[0].cx+data[1][1]) - 16:int(data[0].cx+data[1][1]) + 17]\n",
    "    \n",
    "    #get scoring information for each window\n",
    "    scoring = lambda data: data[0].score(data[1][0],data[1][1]) #implement the scoring function\n",
    "    \n",
    "    report = lambda data: [window_gen(data),scoring(data)]\n",
    "    \n",
    "    #get images for all windows for all image files\n",
    "    scored_data = map(report,itertools.product(e,window_center))\n",
    "    \n",
    "    #DEBUG: check if images have >1 ellipses\n",
    "    #if len(e)>1:\n",
    "    #    print len(windows)\n",
    "    \n",
    "    return scored_data"
   ]
  },
  {
   "cell_type": "code",
   "execution_count": 14,
   "metadata": {},
   "outputs": [],
   "source": [
    "#get image squares for all images\n",
    "image_windows = lambda i: create_windows(imginfo.keys()[i],imginfo[imginfo.keys()[i]])\n",
    "all_image_windows = map(image_windows,xrange(10))"
   ]
  },
  {
   "cell_type": "code",
   "execution_count": 15,
   "metadata": {},
   "outputs": [],
   "source": [
    "#get image squares for all images\n",
    "decimated_image_windows = lambda i: create_windows(decimated_imginfo.keys()[i],decimated_imginfo[decimated_imginfo.keys()[i]],decimated=True)\n",
    "decimated_all_image_windows = map(decimated_image_windows,xrange(30))"
   ]
  },
  {
   "cell_type": "code",
   "execution_count": 16,
   "metadata": {},
   "outputs": [
    {
     "data": {
      "text/plain": [
       "[array([[ 77,  88,  95, ...,  42,  56,  80],\n",
       "        [ 84,  96, 105, ...,  42,  54,  79],\n",
       "        [ 92, 104, 113, ...,  42,  53,  77],\n",
       "        ..., \n",
       "        [ 52,  49,  46, ...,  78,  81,  85],\n",
       "        [ 57,  54,  52, ...,  82,  85,  88],\n",
       "        [ 62,  61,  59, ...,  88,  90,  92]], dtype=uint8), 0]"
      ]
     },
     "execution_count": 16,
     "metadata": {},
     "output_type": "execute_result"
    }
   ],
   "source": [
    "decimated_all_image_windows[0][0]"
   ]
  },
  {
   "cell_type": "code",
   "execution_count": 17,
   "metadata": {},
   "outputs": [
    {
     "data": {
      "text/plain": [
       "49"
      ]
     },
     "execution_count": 17,
     "metadata": {},
     "output_type": "execute_result"
    }
   ],
   "source": [
    "len(decimated_all_image_windows[2])"
   ]
  },
  {
   "cell_type": "code",
   "execution_count": 18,
   "metadata": {},
   "outputs": [
    {
     "name": "stderr",
     "output_type": "stream",
     "text": [
      "/usr/local/lib/python2.7/site-packages/matplotlib/axes/_base.py:2782: UserWarning: Attempting to set identical left==right results\n",
      "in singular transformations; automatically expanding.\n",
      "left=-0.5, right=-0.5\n",
      "  'left=%s, right=%s') % (left, right))\n"
     ]
    },
    {
     "data": {
      "text/plain": [
       "<matplotlib.image.AxesImage at 0x103b21a10>"
      ]
     },
     "execution_count": 18,
     "metadata": {},
     "output_type": "execute_result"
    },
    {
     "data": {
      "image/png": "[encoded data removed]",
      "text/plain": [
       "<matplotlib.figure.Figure at 0x109488990>"
      ]
     },
     "metadata": {},
     "output_type": "display_data"
    }
   ],
   "source": [
    "plt.imshow(decimated_all_image_windows[1][1][0],cmap='gray', interpolation='nearest')"
   ]
  },
  {
   "cell_type": "code",
   "execution_count": 19,
   "metadata": {
    "collapsed": true
   },
   "outputs": [],
   "source": [
    "#how many total images\n",
    "#plt.imshow(all_image_windows[1][0][0],cmap=\"gray\",interpolation=\"nearest\")"
   ]
  },
  {
   "cell_type": "code",
   "execution_count": 20,
   "metadata": {},
   "outputs": [
    {
     "data": {
      "text/plain": [
       "98"
      ]
     },
     "execution_count": 20,
     "metadata": {},
     "output_type": "execute_result"
    }
   ],
   "source": [
    "len(all_image_windows[0])"
   ]
  },
  {
   "cell_type": "code",
   "execution_count": null,
   "metadata": {
    "collapsed": true
   },
   "outputs": [],
   "source": []
  }
 ],
 "metadata": {
  "kernelspec": {
   "display_name": "Python 2",
   "language": "python",
   "name": "python2"
  },
  "language_info": {
   "codemirror_mode": {
    "name": "ipython",
    "version": 2
   },
   "file_extension": ".py",
   "mimetype": "text/x-python",
   "name": "python",
   "nbconvert_exporter": "python",
   "pygments_lexer": "ipython2",
   "version": "2.7.12"
  }
 },
 "nbformat": 4,
 "nbformat_minor": 2
}
