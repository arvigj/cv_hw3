{
 "cells": [
  {
   "cell_type": "code",
   "execution_count": 1,
   "metadata": {
    "collapsed": true,
    "deletable": true,
    "editable": true
   },
   "outputs": [],
   "source": [
    "import numpy as np\n",
    "import cv2\n",
    "import matplotlib.pyplot as plt\n",
    "import subprocess\n",
    "import itertools\n",
    "\n",
    "%matplotlib inline"
   ]
  },
  {
   "cell_type": "code",
   "execution_count": 2,
   "metadata": {
    "collapsed": false,
    "deletable": true,
    "editable": true
   },
   "outputs": [
    {
     "name": "stdout",
     "output_type": "stream",
     "text": [
      "['FDDB-fold-01-ellipseList.txt', 'FDDB-fold-02-ellipseList.txt', 'FDDB-fold-03-ellipseList.txt', 'FDDB-fold-04-ellipseList.txt', 'FDDB-fold-05-ellipseList.txt', 'FDDB-fold-06-ellipseList.txt', 'FDDB-fold-07-ellipseList.txt', 'FDDB-fold-08-ellipseList.txt', 'FDDB-fold-09-ellipseList.txt', 'FDDB-fold-10-ellipseList.txt']\n"
     ]
    }
   ],
   "source": [
    "f = subprocess.check_output([\"ls\"]).split()\n",
    "files = []\n",
    "#make list of files that contain ellipse data\n",
    "for i in f:\n",
    "    if \"ellipseList.txt\" in i:\n",
    "        files.append(i)\n",
    "print files"
   ]
  },
  {
   "cell_type": "code",
   "execution_count": 3,
   "metadata": {
    "collapsed": true,
    "deletable": true,
    "editable": true
   },
   "outputs": [],
   "source": [
    "imginfo = {}"
   ]
  },
  {
   "cell_type": "code",
   "execution_count": 50,
   "metadata": {
    "collapsed": true,
    "deletable": true,
    "editable": true
   },
   "outputs": [],
   "source": [
    "#container for ellipse data\n",
    "class ellipse:\n",
    "    def __init__(self,s):\n",
    "        ellipse_info = s.split(\" \")\n",
    "        self.major_axis = float(ellipse_info[0])\n",
    "        self.minor_axis = float(ellipse_info[1])\n",
    "        self.angle = float(ellipse_info[2])\n",
    "        self.cx = float(ellipse_info[3])\n",
    "        self.cy = float(ellipse_info[4])\n",
    "        focus = np.sqrt(np.square(self.major_axis)-np.square(self.minor_axis))\n",
    "        #print focus\n",
    "        #print self.cx-np.cos(self.angle)*focus\n",
    "        #print self.cy-np.sin(self.angle)*focus\n",
    "        #print\n",
    "        self.foci = np.array([(self.cx-np.cos(self.angle)*focus,self.cy-np.sin(self.angle)*focus),(self.cx+np.cos(self.angle)*focus,self.cy+np.sin(self.angle)*focus)])\n",
    "        self.foci_dist = np.sqrt(np.square(focus)+np.square(self.minor_axis))\n",
    "        self.area = np.pi*self.minor_axis*self.major_axis\n",
    "    def pixel_score(self, xy):\n",
    "        if (np.linalg.norm([xy[0]-self.foci[0][0],xy[1]-self.foci[0][1]]) + np.linalg.norm([xy[0]-self.foci[1][0],xy[1]-self.foci[1][1]])) <= 2*self.foci_dist:\n",
    "            #print \"For pixel \"\n",
    "            #print xy\n",
    "            #print \"Foci are \"\n",
    "            #print self.foci\n",
    "            return 1\n",
    "        return 0\n",
    "    def score(self, winx, winy, half_width = 16):\n",
    "        intersect = sum(map(self.pixel_score,itertools.product(xrange(winx-half_width,winx+half_width+1),xrange(winy-half_width,winy+half_width+1))))\n",
    "        union = np.square(half_width*2+1) + self.area - intersect\n",
    "        #print intersect/union\n",
    "        return intersect/union"
   ]
  },
  {
   "cell_type": "code",
   "execution_count": 51,
   "metadata": {
    "collapsed": false,
    "deletable": true,
    "editable": true
   },
   "outputs": [],
   "source": [
    "#read and populate array iminfo with the information about ellipses of images\n",
    "#images can have variable numbers of ellipses\n",
    "def info(filename):\n",
    "    with open(filename,\"r\") as f:\n",
    "        while(True):\n",
    "            try:\n",
    "                imgpath = f.readline().split(\"\\n\")[0]+\".jpg\"\n",
    "                imginfo[imgpath] = []\n",
    "                numfaces = f.readline().strip()\n",
    "                #print numfaces\n",
    "                for i in xrange(int(numfaces)):\n",
    "                    imginfo[imgpath].append(ellipse(f.readline().split(\"\\n\")[0]))\n",
    "            except ValueError as e:\n",
    "                #pass\n",
    "                return\n",
    "    return"
   ]
  },
  {
   "cell_type": "code",
   "execution_count": 52,
   "metadata": {
    "collapsed": false,
    "deletable": true,
    "editable": true
   },
   "outputs": [
    {
     "name": "stderr",
     "output_type": "stream",
     "text": [
      "/usr/local/lib/python2.7/site-packages/ipykernel/__main__.py:10: RuntimeWarning: invalid value encountered in sqrt\n"
     ]
    },
    {
     "data": {
      "text/plain": [
       "[None, None, None, None, None, None, None, None, None, None]"
      ]
     },
     "execution_count": 52,
     "metadata": {},
     "output_type": "execute_result"
    }
   ],
   "source": [
    "#store ellipse data for all images\n",
    "map(info,files)\n"
   ]
  },
  {
   "cell_type": "code",
   "execution_count": 53,
   "metadata": {
    "collapsed": false,
    "deletable": true,
    "editable": true
   },
   "outputs": [
    {
     "data": {
      "text/plain": [
       "2846"
      ]
     },
     "execution_count": 53,
     "metadata": {},
     "output_type": "execute_result"
    }
   ],
   "source": [
    "len(imginfo)"
   ]
  },
  {
   "cell_type": "code",
   "execution_count": 54,
   "metadata": {
    "collapsed": true,
    "deletable": true,
    "editable": true
   },
   "outputs": [],
   "source": [
    "def create_windows(imfile,e):\n",
    "    #for ellip in ellipses:\n",
    "    image = cv2.imread(imfile,0)\n",
    "    positions = [-6,-4,-2,0,2,4,6] #centering of windows\n",
    "    window_center = list(itertools.product(positions,positions))\n",
    "    \n",
    "    #get subsection of image centered at data[1]. data[0] is the ellipse instance for the image\n",
    "    window_gen = lambda data: image[int(data[0].cy+data[1][0]) - 16:int(data[0].cy+data[1][0]) + 17,int(data[0].cx+data[1][1]) - 16:int(data[0].cx+data[1][1]) + 17]\n",
    "    \n",
    "    #get scoring information for each window\n",
    "    scoring = lambda data: data[0].score(int(data[0].cy+data[1][0]),int(data[0].cx+data[1][1])) #implement the scoring function\n",
    "    \n",
    "    report = lambda data: [window_gen(data),scoring(data)]\n",
    "    \n",
    "    #get images for all windows for all image files\n",
    "    scored_data = map(report,itertools.product(e,window_center))\n",
    "    \n",
    "    #DEBUG: check if images have >1 ellipses\n",
    "    #if len(e)>1:\n",
    "    #    print len(windows)\n",
    "    #print \"Done with image file %s\"%imfile\n",
    "    return scored_data"
   ]
  },
  {
   "cell_type": "code",
   "execution_count": 59,
   "metadata": {
    "collapsed": false,
    "deletable": true,
    "editable": true,
    "scrolled": true
   },
   "outputs": [],
   "source": [
    "#get image squares for all images\n",
    "image_windows = lambda i: create_windows(imginfo.keys()[i],imginfo[imginfo.keys()[i]])\n",
    "#all_image_windows = map(image_windows,xrange(len(imginfo)))\n",
    "all_image_windows = map(image_windows,xrange(10))"
   ]
  },
  {
   "cell_type": "code",
   "execution_count": 60,
   "metadata": {
    "collapsed": false,
    "deletable": true,
    "editable": true
   },
   "outputs": [],
   "source": [
    "#how many total images\n",
    "#plt.imshow(all_image_windows[1][0][0],cmap=\"gray\",interpolation=\"nearest\")"
   ]
  },
  {
   "cell_type": "code",
   "execution_count": 61,
   "metadata": {
    "collapsed": false,
    "deletable": true,
    "editable": true
   },
   "outputs": [],
   "source": [
    "def show(i):\n",
    "    print all_image_windows[i][0][1]\n",
    "    plt.imshow(all_image_windows[i][0][0],cmap=\"gray\",interpolation=\"nearest\")\n",
    "    plt.show()"
   ]
  },
  {
   "cell_type": "code",
   "execution_count": 67,
   "metadata": {
    "collapsed": false,
    "deletable": true,
    "editable": true
   },
   "outputs": [
    {
     "name": "stdout",
     "output_type": "stream",
     "text": [
      "0.0459520291142\n"
     ]
    },
    {
     "data": {
      "image/png": "[encoded data removed]",
      "text/plain": [
       "<matplotlib.figure.Figure at 0x10cfcfb90>"
      ]
     },
     "metadata": {},
     "output_type": "display_data"
    }
   ],
   "source": [
    "show(2)"
   ]
  },
  {
   "cell_type": "code",
   "execution_count": null,
   "metadata": {
    "collapsed": true,
    "deletable": true,
    "editable": true
   },
   "outputs": [],
   "source": []
  }
 ],
 "metadata": {
  "kernelspec": {
   "display_name": "Python 2",
   "language": "python",
   "name": "python2"
  },
  "language_info": {
   "codemirror_mode": {
    "name": "ipython",
    "version": 2
   },
   "file_extension": ".py",
   "mimetype": "text/x-python",
   "name": "python",
   "nbconvert_exporter": "python",
   "pygments_lexer": "ipython2",
   "version": "2.7.13"
  }
 },
 "nbformat": 4,
 "nbformat_minor": 2
}
