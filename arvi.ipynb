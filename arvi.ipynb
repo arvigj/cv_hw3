{
 "cells": [
  {
   "cell_type": "code",
   "execution_count": 1,
   "metadata": {
    "collapsed": true,
    "deletable": true,
    "editable": true
   },
   "outputs": [],
   "source": [
    "import numpy as np\n",
    "import cv2\n",
    "import matplotlib.pyplot as plt\n",
    "import subprocess\n",
    "import itertools\n",
    "\n",
    "%matplotlib inline"
   ]
  },
  {
   "cell_type": "code",
   "execution_count": 2,
   "metadata": {
    "collapsed": false,
    "deletable": true,
    "editable": true
   },
   "outputs": [
    {
     "name": "stdout",
     "output_type": "stream",
     "text": [
      "['FDDB-fold-01-ellipseList.txt', 'FDDB-fold-02-ellipseList.txt', 'FDDB-fold-03-ellipseList.txt', 'FDDB-fold-04-ellipseList.txt', 'FDDB-fold-05-ellipseList.txt', 'FDDB-fold-06-ellipseList.txt', 'FDDB-fold-07-ellipseList.txt', 'FDDB-fold-08-ellipseList.txt', 'FDDB-fold-09-ellipseList.txt', 'FDDB-fold-10-ellipseList.txt']\n"
     ]
    }
   ],
   "source": [
    "f = subprocess.check_output([\"ls\"]).split()\n",
    "files = []\n",
    "#make list of files that contain ellipse data\n",
    "for i in f:\n",
    "    if \"ellipseList.txt\" in i:\n",
    "        files.append(i)\n",
    "print files"
   ]
  },
  {
   "cell_type": "code",
   "execution_count": 3,
   "metadata": {
    "collapsed": true,
    "deletable": true,
    "editable": true
   },
   "outputs": [],
   "source": [
    "imginfo = {}"
   ]
  },
  {
   "cell_type": "code",
   "execution_count": 4,
   "metadata": {
    "collapsed": true,
    "deletable": true,
    "editable": true
   },
   "outputs": [],
   "source": [
    "#container for ellipse data\n",
    "class ellipse:\n",
    "    def __init__(self,s):\n",
    "        ellipse_info = s.split(\" \")\n",
    "        self.major_axis = float(ellipse_info[0])\n",
    "        self.minor_axis = float(ellipse_info[1])\n",
    "        self.angle = float(ellipse_info[2])\n",
    "        self.cx = float(ellipse_info[3])\n",
    "        self.cy = float(ellipse_info[4])\n",
    "        focus = np.sqrt(np.square(self.major_axis)+np.square(self.minor_axis))\n",
    "        self.foci = np.array([(self.cx-np.cos(self.angle)*focus,self.cy-np.sin(self.angle)*focus),(self.cx+np.cos(self.angle)*focus,self.cy+np.sin(self.angle)*focus)])\n",
    "        self.foci_dist = np.sqrt(np.square(focus)+np.square(self.minor_axis))\n",
    "        self.area = np.pi*self.minor_axis*self.major_axis\n",
    "    def pixel_score(self, xy):\n",
    "        if (np.linalg.norm([xy[0]-self.foci[0][0],xy[1]-self.foci[0][1]]) + np.linalg.norm([xy[0]-self.foci[1][0],xy[1]-self.foci[1][1]])) <= 2*self.foci_dist:\n",
    "            return 1\n",
    "        return 0\n",
    "    def score(self, winx, winy, half_width = 16):\n",
    "        intersect = sum(map(self.pixel_score,itertools.product(xrange(winx-half_width,winx+half_width+1),xrange(winy-half_width,winy+half_width+1))))\n",
    "        union = np.square(half_width*2+1) + self.area - intersect\n",
    "        return int(intersect/union)"
   ]
  },
  {
   "cell_type": "code",
   "execution_count": 5,
   "metadata": {
    "collapsed": false,
    "deletable": true,
    "editable": true
   },
   "outputs": [],
   "source": [
    "#read and populate array iminfo with the information about ellipses of images\n",
    "#images can have variable numbers of ellipses\n",
    "def info(filename):\n",
    "    with open(filename,\"r\") as f:\n",
    "        while(True):\n",
    "            try:\n",
    "                imgpath = f.readline().split(\"\\n\")[0]+\".jpg\"\n",
    "                imginfo[imgpath] = []\n",
    "                numfaces = f.readline().strip()\n",
    "                #print numfaces\n",
    "                for i in xrange(int(numfaces)):\n",
    "                    imginfo[imgpath].append(ellipse(f.readline().split(\"\\n\")[0]))\n",
    "            except ValueError as e:\n",
    "                #pass\n",
    "                return\n",
    "    return"
   ]
  },
  {
   "cell_type": "code",
   "execution_count": 6,
   "metadata": {
    "collapsed": false,
    "deletable": true,
    "editable": true
   },
   "outputs": [
    {
     "data": {
      "text/plain": [
       "[None, None, None, None, None, None, None, None, None, None]"
      ]
     },
     "execution_count": 6,
     "metadata": {},
     "output_type": "execute_result"
    }
   ],
   "source": [
    "#store ellipse data for all images\n",
    "map(info,files)\n"
   ]
  },
  {
   "cell_type": "code",
   "execution_count": 7,
   "metadata": {
    "collapsed": false,
    "deletable": true,
    "editable": true
   },
   "outputs": [
    {
     "data": {
      "text/plain": [
       "2846"
      ]
     },
     "execution_count": 7,
     "metadata": {},
     "output_type": "execute_result"
    }
   ],
   "source": [
    "len(imginfo)"
   ]
  },
  {
   "cell_type": "code",
   "execution_count": 8,
   "metadata": {
    "collapsed": true,
    "deletable": true,
    "editable": true
   },
   "outputs": [],
   "source": [
    "def create_windows(imfile,e):\n",
    "    #for ellip in ellipses:\n",
    "    image = cv2.imread(imfile,0)\n",
    "    positions = [-6,-4,-2,0,2,4,6] #centering of windows\n",
    "    window_center = list(itertools.product(positions,positions))\n",
    "    \n",
    "    #get subsection of image centered at data[1]. data[0] is the ellipse instance for the image\n",
    "    window_gen = lambda data: image[int(data[0].cy+data[1][0]) - 16:int(data[0].cy+data[1][0]) + 17,int(data[0].cx+data[1][1]) - 16:int(data[0].cx+data[1][1]) + 17]\n",
    "    \n",
    "    #get scoring information for each window\n",
    "    scoring = lambda data: data[0].score(int(data[0].cy+data[1][0]),int(data[0].cx+data[1][1])) #implement the scoring function\n",
    "    \n",
    "    report = lambda data: [window_gen(data),scoring(data)]\n",
    "    \n",
    "    #get images for all windows for all image files\n",
    "    scored_data = map(report,itertools.product(e,window_center))\n",
    "    \n",
    "    #DEBUG: check if images have >1 ellipses\n",
    "    #if len(e)>1:\n",
    "    #    print len(windows)\n",
    "    print \"Done with image file %s\"%imfile\n",
    "    return scored_data"
   ]
  },
  {
   "cell_type": "code",
   "execution_count": null,
   "metadata": {
    "collapsed": false,
    "deletable": true,
    "editable": true,
    "scrolled": true
   },
   "outputs": [
    {
     "name": "stdout",
     "output_type": "stream",
     "text": [
      "Done with image file 2002/08/03/big/img_649.jpg\n",
      "Done with image file 2002/08/12/big/img_193.jpg\n",
      "Done with image file 2002/08/05/big/img_67.jpg\n",
      "Done with image file 2002/07/27/big/img_185.jpg\n",
      "Done with image file 2002/07/24/big/img_480.jpg\n",
      "Done with image file 2003/01/15/big/img_884.jpg\n",
      "Done with image file 2002/08/27/big/img_19693.jpg\n",
      "Done with image file 2002/08/16/big/img_371.jpg\n",
      "Done with image file 2003/01/16/big/img_150.jpg\n",
      "Done with image file 2002/07/23/big/img_750.jpg\n",
      "Done with image file 2002/07/22/big/img_554.jpg\n",
      "Done with image file 2002/07/30/big/img_706.jpg\n",
      "Done with image file 2002/07/31/big/img_366.jpg\n",
      "Done with image file 2003/01/14/big/img_37.jpg\n",
      "Done with image file 2003/01/14/big/img_592.jpg\n",
      "Done with image file 2002/09/02/big/img_15295.jpg\n",
      "Done with image file 2002/08/02/big/img_564.jpg\n",
      "Done with image file 2002/08/28/big/img_19421.jpg\n",
      "Done with image file 2002/07/22/big/img_849.jpg\n",
      "Done with image file 2002/07/31/big/img_30.jpg\n",
      "Done with image file 2002/08/30/big/img_18228.jpg\n",
      "Done with image file 2002/08/01/big/img_2159.jpg\n",
      "Done with image file 2002/08/09/big/img_229.jpg\n",
      "Done with image file 2002/08/13/big/img_834.jpg\n",
      "Done with image file 2002/07/25/big/img_198.jpg\n",
      "Done with image file 2002/07/28/big/img_319.jpg\n",
      "Done with image file 2003/01/13/big/img_535.jpg\n",
      "Done with image file 2002/08/19/big/img_588.jpg\n",
      "Done with image file 2003/01/15/big/img_505.jpg\n",
      "Done with image file 2002/08/29/big/img_18920.jpg\n",
      "Done with image file 2002/08/28/big/img_19341.jpg\n",
      "Done with image file 2002/08/05/big/img_3187.jpg\n",
      "Done with image file 2003/01/16/big/img_56.jpg\n",
      "Done with image file 2003/01/14/big/img_937.jpg\n",
      "Done with image file 2002/07/30/big/img_395.jpg\n",
      "Done with image file 2003/01/14/big/img_121.jpg\n",
      "Done with image file 2002/08/08/big/img_46.jpg\n",
      "Done with image file 2002/08/31/big/img_17702.jpg\n",
      "Done with image file 2002/07/22/big/img_440.jpg\n",
      "Done with image file 2002/08/14/big/img_523.jpg\n",
      "Done with image file 2002/08/04/big/img_862.jpg\n",
      "Done with image file 2003/01/17/big/img_271.jpg\n",
      "Done with image file 2002/08/26/big/img_678.jpg\n",
      "Done with image file 2003/01/15/big/img_512.jpg\n",
      "Done with image file 2002/07/26/big/img_457.jpg\n",
      "Done with image file 2003/01/13/big/img_358.jpg\n",
      "Done with image file 2002/07/25/big/img_685.jpg\n",
      "Done with image file 2003/01/13/big/img_922.jpg\n",
      "Done with image file 2002/07/26/big/img_979.jpg\n",
      "Done with image file 2002/07/26/big/img_531.jpg\n",
      "Done with image file 2002/08/09/big/img_725.jpg\n",
      "Done with image file 2002/08/31/big/img_18021.jpg\n",
      "Done with image file 2002/08/07/big/img_1156.jpg\n",
      "Done with image file 2002/08/02/big/img_51.jpg\n",
      "Done with image file 2002/08/19/big/img_576.jpg\n",
      "Done with image file 2002/08/14/big/img_116.jpg\n",
      "Done with image file 2003/01/16/big/img_679.jpg\n",
      "Done with image file 2003/01/17/big/img_555.jpg\n",
      "Done with image file 2002/07/19/big/img_741.jpg\n",
      "Done with image file 2002/08/08/big/img_444.jpg\n",
      "Done with image file 2002/07/31/big/img_363.jpg\n",
      "Done with image file 2003/01/13/big/img_552.jpg\n",
      "Done with image file 2002/08/10/big/img_783.jpg\n",
      "Done with image file 2003/01/17/big/img_978.jpg\n",
      "Done with image file 2002/08/12/big/img_624.jpg\n",
      "Done with image file 2003/01/15/big/img_795.jpg\n",
      "Done with image file 2002/07/25/big/img_817.jpg\n",
      "Done with image file 2002/08/07/big/img_1933.jpg\n",
      "Done with image file 2002/08/06/big/img_2821.jpg\n",
      "Done with image file 2002/08/18/big/img_473.jpg\n",
      "Done with image file 2002/07/26/big/img_489.jpg\n",
      "Done with image file 2003/01/15/big/img_763.jpg\n",
      "Done with image file 2002/07/19/big/img_255.jpg\n",
      "Done with image file 2002/07/24/big/img_478.jpg\n",
      "Done with image file 2002/07/26/big/img_541.jpg\n",
      "Done with image file 2002/08/09/big/img_375.jpg\n",
      "Done with image file 2002/08/16/big/img_932.jpg\n",
      "Done with image file 2002/08/02/big/img_523.jpg\n",
      "Done with image file 2002/08/03/big/img_404.jpg\n",
      "Done with image file 2002/07/24/big/img_371.jpg\n",
      "Done with image file 2002/07/19/big/img_423.jpg\n",
      "Done with image file 2002/08/24/big/img_526.jpg\n",
      "Done with image file 2002/09/02/big/img_15108.jpg\n",
      "Done with image file 2003/01/16/big/img_429.jpg\n",
      "Done with image file 2002/07/31/big/img_14.jpg\n",
      "Done with image file 2003/01/13/big/img_1169.jpg\n",
      "Done with image file 2002/08/07/big/img_1363.jpg\n",
      "Done with image file 2002/08/05/big/img_3708.jpg\n",
      "Done with image file 2002/09/01/big/img_16845.jpg\n",
      "Done with image file 2002/07/25/big/img_138.jpg\n",
      "Done with image file 2002/07/22/big/img_152.jpg\n",
      "Done with image file 2002/08/02/big/img_1215.jpg\n",
      "Done with image file 2002/07/21/big/img_233.jpg\n",
      "Done with image file 2002/08/16/big/img_893.jpg\n",
      "Done with image file 2002/07/29/big/img_598.jpg\n",
      "Done with image file 2002/08/25/big/img_416.jpg\n",
      "Done with image file 2003/01/13/big/img_570.jpg\n",
      "Done with image file 2002/08/19/big/img_185.jpg\n",
      "Done with image file 2002/08/26/big/img_642.jpg\n",
      "Done with image file 2003/01/15/big/img_637.jpg\n",
      "Done with image file 2002/07/24/big/img_171.jpg\n",
      "Done with image file 2002/08/25/big/img_705.jpg\n",
      "Done with image file 2002/08/11/big/img_478.jpg\n",
      "Done with image file 2002/08/25/big/img_508.jpg\n",
      "Done with image file 2003/01/17/big/img_356.jpg\n",
      "Done with image file 2002/07/31/big/img_960.jpg\n",
      "Done with image file 2002/08/13/big/img_776.jpg\n",
      "Done with image file 2002/08/06/big/img_2239.jpg\n",
      "Done with image file 2002/08/10/big/img_157.jpg\n",
      "Done with image file 2002/07/22/big/img_508.jpg\n",
      "Done with image file 2002/07/31/big/img_537.jpg\n",
      "Done with image file 2002/08/25/big/img_419.jpg\n",
      "Done with image file 2002/08/18/big/img_603.jpg\n",
      "Done with image file 2002/08/19/big/img_674.jpg\n",
      "Done with image file 2002/08/20/big/img_539.jpg\n",
      "Done with image file 2003/01/13/big/img_431.jpg\n",
      "Done with image file 2003/01/01/big/img_136.jpg\n",
      "Done with image file 2002/08/28/big/img_19388.jpg\n",
      "Done with image file 2002/08/03/big/img_116.jpg\n",
      "Done with image file 2002/07/30/big/img_214.jpg\n",
      "Done with image file 2002/08/08/big/img_525.jpg\n",
      "Done with image file 2003/01/15/big/img_240.jpg\n",
      "Done with image file 2002/08/05/big/img_3543.jpg\n",
      "Done with image file 2002/07/23/big/img_409.jpg\n",
      "Done with image file 2002/07/23/big/img_339.jpg\n",
      "Done with image file 2002/07/31/big/img_599.jpg\n",
      "Done with image file 2002/07/21/big/img_543.jpg\n",
      "Done with image file 2003/01/15/big/img_200.jpg\n",
      "Done with image file 2002/08/14/big/img_198.jpg\n",
      "Done with image file 2002/08/07/big/img_1054.jpg\n",
      "Done with image file 2002/08/10/big/img_561.jpg\n",
      "Done with image file 2002/08/21/big/img_589.jpg\n",
      "Done with image file 2002/08/13/big/img_635.jpg\n",
      "Done with image file 2002/07/19/big/img_770.jpg\n",
      "Done with image file 2002/07/30/big/img_378.jpg\n",
      "Done with image file 2002/07/29/big/img_825.jpg\n",
      "Done with image file 2002/07/26/big/img_636.jpg\n",
      "Done with image file 2003/01/16/big/img_428.jpg\n",
      "Done with image file 2002/08/12/big/img_445.jpg\n",
      "Done with image file 2002/07/30/big/img_57.jpg\n",
      "Done with image file 2003/01/15/big/img_239.jpg\n",
      "Done with image file 2002/08/28/big/img_19590.jpg\n",
      "Done with image file 2002/08/03/big/img_462.jpg\n",
      "Done with image file 2002/08/04/big/img_145.jpg\n",
      "Done with image file 2002/07/29/big/img_996.jpg\n",
      "Done with image file 2003/01/15/big/img_765.jpg\n",
      "Done with image file 2002/08/31/big/img_17007.jpg\n",
      "Done with image file 2002/08/05/big/img_3274.jpg\n",
      "Done with image file 2003/01/14/big/img_464.jpg\n",
      "Done with image file 2002/08/27/big/img_19668.jpg\n",
      "Done with image file 2002/07/31/big/img_236.jpg\n",
      "Done with image file 2002/07/30/big/img_144.jpg\n",
      "Done with image file 2002/07/23/big/img_539.jpg\n",
      "Done with image file 2002/08/18/big/img_369.jpg\n",
      "Done with image file 2002/08/27/big/img_19823.jpg\n",
      "Done with image file 2002/07/21/big/img_497.jpg\n",
      "Done with image file 2003/01/13/big/img_490.jpg\n",
      "Done with image file 2002/08/26/big/img_351.jpg\n",
      "Done with image file 2003/01/16/big/img_627.jpg\n",
      "Done with image file 2002/07/27/big/img_618.jpg\n",
      "Done with image file 2003/01/16/big/img_696.jpg\n",
      "Done with image file 2002/07/25/big/img_1121.jpg\n",
      "Done with image file 2002/08/18/big/img_293.jpg\n",
      "Done with image file 2002/09/01/big/img_16338.jpg\n",
      "Done with image file 2002/07/24/big/img_441.jpg\n",
      "Done with image file 2002/08/08/big/img_277.jpg\n",
      "Done with image file 2002/07/19/big/img_426.jpg\n",
      "Done with image file 2002/08/26/big/img_257.jpg\n",
      "Done with image file 2003/01/14/big/img_552.jpg\n",
      "Done with image file 2002/08/09/big/img_425.jpg\n",
      "Done with image file 2002/08/13/big/img_418.jpg\n",
      "Done with image file 2002/08/18/big/img_152.jpg\n",
      "Done with image file 2002/07/23/big/img_772.jpg\n",
      "Done with image file 2003/01/13/big/img_630.jpg\n",
      "Done with image file 2002/08/12/big/img_359.jpg\n",
      "Done with image file 2002/07/23/big/img_833.jpg\n",
      "Done with image file 2002/07/26/big/img_248.jpg\n",
      "Done with image file 2002/08/02/big/img_775.jpg\n",
      "Done with image file 2002/07/24/big/img_836.jpg\n",
      "Done with image file 2002/08/30/big/img_18470.jpg\n",
      "Done with image file 2002/08/22/big/img_594.jpg\n",
      "Done with image file 2002/08/23/big/img_477.jpg\n",
      "Done with image file 2002/08/13/big/img_543.jpg\n",
      "Done with image file 2003/01/13/big/img_284.jpg\n",
      "Done with image file 2002/07/27/big/img_981.jpg\n",
      "Done with image file 2002/07/22/big/img_694.jpg\n",
      "Done with image file 2002/08/09/big/img_593.jpg\n",
      "Done with image file 2002/08/27/big/img_19719.jpg\n",
      "Done with image file 2002/07/29/big/img_1321.jpg\n",
      "Done with image file 2002/07/21/big/img_375.jpg\n",
      "Done with image file 2002/08/21/big/img_521.jpg\n",
      "Done with image file 2002/08/16/big/img_662.jpg\n",
      "Done with image file 2002/07/19/big/img_352.jpg\n",
      "Done with image file 2002/08/08/big/img_109.jpg\n",
      "Done with image file 2002/07/29/big/img_258.jpg\n",
      "Done with image file 2003/01/16/big/img_197.jpg\n",
      "Done with image file 2003/01/17/big/img_789.jpg\n",
      "Done with image file 2002/08/01/big/img_1411.jpg\n"
     ]
    }
   ],
   "source": [
    "#get image squares for all images\n",
    "image_windows = lambda i: create_windows(imginfo.keys()[i],imginfo[imginfo.keys()[i]])\n",
    "all_image_windows = map(image_windows,xrange(len(imginfo)))"
   ]
  },
  {
   "cell_type": "code",
   "execution_count": null,
   "metadata": {
    "collapsed": false,
    "deletable": true,
    "editable": true
   },
   "outputs": [],
   "source": [
    "#how many total images\n",
    "#plt.imshow(all_image_windows[1][0][0],cmap=\"gray\",interpolation=\"nearest\")"
   ]
  },
  {
   "cell_type": "code",
   "execution_count": null,
   "metadata": {
    "collapsed": false,
    "deletable": true,
    "editable": true
   },
   "outputs": [],
   "source": [
    "len(all_image_windows[0])"
   ]
  },
  {
   "cell_type": "code",
   "execution_count": null,
   "metadata": {
    "collapsed": true,
    "deletable": true,
    "editable": true
   },
   "outputs": [],
   "source": []
  }
 ],
 "metadata": {
  "kernelspec": {
   "display_name": "Python 2",
   "language": "python",
   "name": "python2"
  },
  "language_info": {
   "codemirror_mode": {
    "name": "ipython",
    "version": 2
   },
   "file_extension": ".py",
   "mimetype": "text/x-python",
   "name": "python",
   "nbconvert_exporter": "python",
   "pygments_lexer": "ipython2",
   "version": "2.7.13"
  }
 },
 "nbformat": 4,
 "nbformat_minor": 2
}
