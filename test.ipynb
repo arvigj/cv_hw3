{
 "cells": [
  {
   "cell_type": "code",
   "execution_count": 2,
   "metadata": {
    "collapsed": true,
    "deletable": true,
    "editable": true
   },
   "outputs": [],
   "source": [
    "import numpy as np\n",
    "import matplotlib.pyplot as plt\n",
    "import cv2\n",
    "import itertools\n",
    "\n",
    "%matplotlib inline"
   ]
  },
  {
   "cell_type": "code",
   "execution_count": 3,
   "metadata": {
    "collapsed": true,
    "deletable": true,
    "editable": true
   },
   "outputs": [],
   "source": [
    "class ellipse:\n",
    "    def __init__(self,s):\n",
    "        ellipse_info = s.split(\" \")\n",
    "        self.major_axis = float(ellipse_info[0])\n",
    "        self.minor_axis = float(ellipse_info[1])\n",
    "        self.angle = float(ellipse_info[2])\n",
    "        self.cx = float(ellipse_info[3])\n",
    "        self.cy = float(ellipse_info[4])\n",
    "        focus = np.sqrt(np.square(self.major_axis)-np.square(self.minor_axis))\n",
    "        #print focus\n",
    "        #print self.cx-np.cos(self.angle)*focus\n",
    "        #print self.cy-np.sin(self.angle)*focus\n",
    "        #print\n",
    "        self.foci = np.array([(self.cx-np.cos(self.angle)*focus,self.cy-np.sin(self.angle)*focus),(self.cx+np.cos(self.angle)*focus,self.cy+np.sin(self.angle)*focus)])\n",
    "        self.foci_dist = np.sqrt(np.square(focus)+np.square(self.minor_axis))\n",
    "        self.area = np.pi*self.minor_axis*self.major_axis\n",
    "    def pixel_score(self, xy):\n",
    "        if (np.linalg.norm([xy[0]-self.foci[0][0],xy[1]-self.foci[0][1]]) + np.linalg.norm([xy[0]-self.foci[1][0],xy[1]-self.foci[1][1]])) <= 2*self.foci_dist:\n",
    "            #print \"For pixel \"\n",
    "            #print xy\n",
    "            #print \"Foci are \"\n",
    "            #print self.foci\n",
    "            return 1\n",
    "        return 0\n",
    "    def score(self, winx, winy, half_width = 16):\n",
    "        intersect = sum(map(self.pixel_score,itertools.product(xrange(winx-half_width,winx+half_width+1),xrange(winy-half_width,winy+half_width+1))))\n",
    "        union = np.square(half_width*2+1) + self.area - intersect\n",
    "        #print intersect/union\n",
    "        return [intersect,union]"
   ]
  },
  {
   "cell_type": "code",
   "execution_count": 4,
   "metadata": {
    "collapsed": false,
    "deletable": true,
    "editable": true
   },
   "outputs": [
    {
     "name": "stdout",
     "output_type": "stream",
     "text": [
      "[4001, 21907.963267948966]\n"
     ]
    },
    {
     "data": {
      "image/png": "[encoded data removed]",
      "text/plain": [
       "<matplotlib.figure.Figure at 0x10f827950>"
      ]
     },
     "metadata": {},
     "output_type": "display_data"
    }
   ],
   "source": [
    "e = ellipse(\"100 50 0 100 100\")\n",
    "im = np.zeros([200,200])\n",
    "def func(x):\n",
    "    im[x[0],x[1]] = 255*e.pixel_score(x)\n",
    "map(func,itertools.product(xrange(200),xrange(200)))\n",
    "plt.imshow(im.T,cmap=\"gray\")\n",
    "print e.score(50,50,half_width=50)"
   ]
  },
  {
   "cell_type": "code",
   "execution_count": null,
   "metadata": {
    "collapsed": true,
    "deletable": true,
    "editable": true
   },
   "outputs": [],
   "source": []
  },
  {
   "cell_type": "code",
   "execution_count": null,
   "metadata": {
    "collapsed": true,
    "deletable": true,
    "editable": true
   },
   "outputs": [],
   "source": []
  }
 ],
 "metadata": {
  "kernelspec": {
   "display_name": "Python 2",
   "language": "python",
   "name": "python2"
  },
  "language_info": {
   "codemirror_mode": {
    "name": "ipython",
    "version": 2
   },
   "file_extension": ".py",
   "mimetype": "text/x-python",
   "name": "python",
   "nbconvert_exporter": "python",
   "pygments_lexer": "ipython2",
   "version": "2.7.13"
  }
 },
 "nbformat": 4,
 "nbformat_minor": 2
}
