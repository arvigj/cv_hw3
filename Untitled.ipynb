{
 "cells": [
  {
   "cell_type": "code",
   "execution_count": 1,
   "metadata": {
    "collapsed": true
   },
   "outputs": [],
   "source": [
    "import numpy as np\n",
    "import cv2\n",
    "import matplotlib.pyplot as plt\n",
    "import subprocess\n",
    "import itertools\n",
    "\n",
    "%matplotlib inline"
   ]
  },
  {
   "cell_type": "code",
   "execution_count": 2,
   "metadata": {},
   "outputs": [
    {
     "name": "stdout",
     "output_type": "stream",
     "text": [
      "['FDDB-fold-01-ellipseList.txt', 'FDDB-fold-02-ellipseList.txt', 'FDDB-fold-03-ellipseList.txt', 'FDDB-fold-04-ellipseList.txt', 'FDDB-fold-05-ellipseList.txt', 'FDDB-fold-06-ellipseList.txt', 'FDDB-fold-07-ellipseList.txt', 'FDDB-fold-08-ellipseList.txt', 'FDDB-fold-09-ellipseList.txt', 'FDDB-fold-10-ellipseList.txt']\n"
     ]
    }
   ],
   "source": [
    "f = subprocess.check_output([\"ls\"]).split()\n",
    "files = []\n",
    "#make list of files that contain ellipse data\n",
    "for i in f:\n",
    "    if \"ellipseList.txt\" in i:\n",
    "        files.append(i)\n",
    "print files"
   ]
  },
  {
   "cell_type": "code",
   "execution_count": 3,
   "metadata": {
    "collapsed": true
   },
   "outputs": [],
   "source": [
    "imginfo = {}"
   ]
  },
  {
   "cell_type": "code",
   "execution_count": 4,
   "metadata": {},
   "outputs": [],
   "source": [
    "#container for ellipse data\n",
    "class ellipse:\n",
    "    def __init__(self,s):\n",
    "        ellipse_info = s.split(\" \")\n",
    "        self.major_axis = float(ellipse_info[0])\n",
    "        self.minor_axis = float(ellipse_info[1])\n",
    "        self.angle = float(ellipse_info[2])\n",
    "        self.cx = float(ellipse_info[3])\n",
    "        self.cy = float(ellipse_info[4])\n",
    "    def toString(self):\n",
    "        print self.cx"
   ]
  },
  {
   "cell_type": "code",
   "execution_count": 5,
   "metadata": {},
   "outputs": [],
   "source": [
    "#read and populate array iminfo with the information about ellipses of images\n",
    "#images can have variable numbers of ellipses\n",
    "def info(filename):\n",
    "    with open(filename,\"r\") as f:\n",
    "        while(True):\n",
    "            try:\n",
    "                imgpath = f.readline().split(\"\\n\")[0]+\".jpg\"\n",
    "                #print imgpath\n",
    "                imginfo[imgpath] = []\n",
    "                numfaces = f.readline().strip()\n",
    "                #print numfaces\n",
    "                for i in xrange(int(numfaces)):\n",
    "                    imginfo[imgpath].append(ellipse(f.readline().split(\"\\n\")[0]))\n",
    "            except:\n",
    "                return\n",
    "    return"
   ]
  },
  {
   "cell_type": "code",
   "execution_count": 6,
   "metadata": {},
   "outputs": [
    {
     "data": {
      "text/plain": [
       "[None, None, None, None, None, None, None, None, None, None]"
      ]
     },
     "execution_count": 6,
     "metadata": {},
     "output_type": "execute_result"
    }
   ],
   "source": [
    "#store ellipse data for all images\n",
    "map(info,files)\n"
   ]
  },
  {
   "cell_type": "code",
   "execution_count": 7,
   "metadata": {
    "collapsed": true
   },
   "outputs": [],
   "source": [
    "def create_windows(imfile,e):\n",
    "    #for ellip in ellipses:\n",
    "    image = cv2.imread(imfile,0)\n",
    "    positions = [-6,-4,-2,0,2,4,6] #centering of windows\n",
    "    window_center = list(itertools.product(positions,positions))\n",
    "    \n",
    "    #get subsection of image centered at data[1]. data[0] is the ellipse instance for the image\n",
    "    window_gen = lambda data: image[int(data[0].cy+data[1][0]) - 16:int(data[0].cy+data[1][0]) + 17,int(data[0].cx+data[1][1]) - 16:int(data[0].cx+data[1][1]) + 17]\n",
    "    \n",
    "    #get scoring information for each window\n",
    "    scoring = lambda data: 0 #implement the scoring function\n",
    "    \n",
    "    #get images for all windows for all image files\n",
    "    windows = map(window_gen,itertools.product(e,window_center))\n",
    "    \n",
    "    #DEBUG: check if images have >1 ellipses\n",
    "    #if len(e)>1:\n",
    "    #    print len(windows)\n",
    "    \n",
    "    return windows"
   ]
  },
  {
   "cell_type": "code",
   "execution_count": 8,
   "metadata": {},
   "outputs": [],
   "source": [
    "#get image squares for all images\n",
    "image_windows = lambda i: create_windows(imginfo.keys()[i],imginfo[imginfo.keys()[i]])\n",
    "all_image_windows = map(image_windows,xrange(len(imginfo)))"
   ]
  },
  {
   "cell_type": "code",
   "execution_count": 10,
   "metadata": {},
   "outputs": [
    {
     "data": {
      "text/plain": [
       "2846"
      ]
     },
     "execution_count": 10,
     "metadata": {},
     "output_type": "execute_result"
    }
   ],
   "source": [
    "#how many total images\n",
    "len(all_image_windows)"
   ]
  },
  {
   "cell_type": "code",
   "execution_count": null,
   "metadata": {},
   "outputs": [],
   "source": []
  },
  {
   "cell_type": "code",
   "execution_count": null,
   "metadata": {
    "collapsed": true
   },
   "outputs": [],
   "source": []
  }
 ],
 "metadata": {
  "kernelspec": {
   "display_name": "Python 2",
   "language": "python",
   "name": "python2"
  },
  "language_info": {
   "codemirror_mode": {
    "name": "ipython",
    "version": 2
   },
   "file_extension": ".py",
   "mimetype": "text/x-python",
   "name": "python",
   "nbconvert_exporter": "python",
   "pygments_lexer": "ipython2",
   "version": "2.7.12"
  }
 },
 "nbformat": 4,
 "nbformat_minor": 2
}
